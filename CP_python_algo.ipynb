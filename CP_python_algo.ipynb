{
  "nbformat": 4,
  "nbformat_minor": 0,
  "metadata": {
    "colab": {
      "name": "CP python algo ",
      "provenance": [],
      "collapsed_sections": [],
      "authorship_tag": "ABX9TyMz8hw0yQfne46QGM9yHHCB",
      "include_colab_link": true
    },
    "kernelspec": {
      "name": "python3",
      "display_name": "Python 3"
    },
    "language_info": {
      "name": "python"
    }
  },
  "cells": [
    {
      "cell_type": "markdown",
      "metadata": {
        "id": "view-in-github",
        "colab_type": "text"
      },
      "source": [
        "<a href=\"https://colab.research.google.com/github/Yassineabdelhedi379/CP-file-handling-/blob/main/CP_python_algo.ipynb\" target=\"_parent\"><img src=\"https://colab.research.google.com/assets/colab-badge.svg\" alt=\"Open In Colab\"/></a>"
      ]
    },
    {
      "cell_type": "code",
      "metadata": {
        "colab": {
          "base_uri": "https://localhost:8080/"
        },
        "id": "42-kyJMXbvxx",
        "outputId": "0a67ed37-2db4-48d0-b1ec-ac38b9248114"
      },
      "source": [
        "#1\n",
        "def binary_search(item_list,item):\n",
        "\tfirst = 0\n",
        "\tlast = len(item_list)-1\n",
        "\tfound = False\n",
        "\twhile( first<=last and not found):\n",
        "\t\tmid = (first + last)//2\n",
        "\t\tif item_list[mid] == item :\n",
        "\t\t\tfound = True\n",
        "\t\telse:\n",
        "\t\t\tif item < item_list[mid]:\n",
        "\t\t\t\tlast = mid - 1\n",
        "\t\t\telse:\n",
        "\t\t\t\tfirst = mid + 1\t\n",
        "\treturn found\n",
        "\t\n",
        "print(binary_search([1,2,3,5,8], 6))\n",
        "print(binary_search([1,2,3,5,8], 5))"
      ],
      "execution_count": 58,
      "outputs": [
        {
          "output_type": "stream",
          "name": "stdout",
          "text": [
            "False\n",
            "True\n"
          ]
        }
      ]
    },
    {
      "cell_type": "code",
      "metadata": {
        "colab": {
          "base_uri": "https://localhost:8080/"
        },
        "id": "q5UFH1A3cLQg",
        "outputId": "56a60df4-b754-4486-d204-181c408c2353"
      },
      "source": [
        "#2\n",
        "def power(a,b):\n",
        "\tif b==0:\n",
        "\t\treturn 1\n",
        "\telif a==0:\n",
        "\t\treturn 0\n",
        "\telif b==1:\n",
        "\t\treturn a\n",
        "\telse:\n",
        "\t\treturn a*power(a,b-1)\n",
        "print(power(3,4))"
      ],
      "execution_count": 9,
      "outputs": [
        {
          "output_type": "stream",
          "name": "stdout",
          "text": [
            "81\n"
          ]
        }
      ]
    },
    {
      "cell_type": "code",
      "metadata": {
        "colab": {
          "base_uri": "https://localhost:8080/"
        },
        "id": "HZd7W8_lcl0P",
        "outputId": "5e646a09-3d70-47e9-98f3-b781a226ed4f"
      },
      "source": [
        "#3\n",
        "def bubbleSort(nlist):\n",
        " for passnum in range(len(nlist)-1,0,-1):\n",
        "  for i in range(passnum):\n",
        "   if nlist[i]>nlist[i+1]:\n",
        "              temp = nlist[i]\n",
        "              nlist[i] = nlist[i+1]\n",
        "              nlist[i+1] = temp\n",
        "numberlist = [29,13,22,37,52,49,46,71,56]\n",
        "bubbleSort(nlist)\n",
        "print(nlist)"
      ],
      "execution_count": 59,
      "outputs": [
        {
          "output_type": "stream",
          "name": "stdout",
          "text": [
            "[13, 22, 29, 37, 46, 49, 52, 56, 71]\n"
          ]
        }
      ]
    },
    {
      "cell_type": "code",
      "metadata": {
        "colab": {
          "base_uri": "https://localhost:8080/"
        },
        "id": "ggr9F0HqcYSJ",
        "outputId": "a84263ed-9b79-4657-c2b8-ee2823082174"
      },
      "source": [
        "#4\n",
        "def mergeSort(nlist):\n",
        "    print(\"Splitting \",nlist)\n",
        "    if len(nlist)>1:\n",
        "        mid = len(nlist)//2\n",
        "        lefthalf = nlist[:mid]\n",
        "        righthalf = nlist[mid:]\n",
        "\n",
        "        mergeSort(lefthalf)\n",
        "        mergeSort(righthalf)\n",
        "        i=j=k=0       \n",
        "        while i < len(lefthalf) and j < len(righthalf):\n",
        "            if lefthalf[i] < righthalf[j]:\n",
        "                nlist[k]=lefthalf[i]\n",
        "                i=i+1\n",
        "            else:\n",
        "                nlist[k]=righthalf[j]\n",
        "                j=j+1\n",
        "            k=k+1\n",
        "\n",
        "        while i < len(lefthalf):\n",
        "            nlist[k]=lefthalf[i]\n",
        "            i=i+1\n",
        "            k=k+1\n",
        "\n",
        "        while j < len(righthalf):\n",
        "            nlist[k]=righthalf[j]\n",
        "            j=j+1\n",
        "            k=k+1\n",
        "print(\"Merging \",nlist)\n",
        "numberlist = [29,13,22,37,52,49,46,71,56]\n",
        "mergeSort(nlist)\n",
        "print(nlist)"
      ],
      "execution_count": 35,
      "outputs": [
        {
          "output_type": "stream",
          "name": "stdout",
          "text": [
            "Merging  [13, 22, 29, 37, 46, 49, 52, 56, 71]\n",
            "Splitting  [13, 22, 29, 37, 46, 49, 52, 56, 71]\n",
            "Splitting  [13, 22, 29, 37]\n",
            "Splitting  [13, 22]\n",
            "Splitting  [13]\n",
            "Splitting  [22]\n",
            "Splitting  [29, 37]\n",
            "Splitting  [29]\n",
            "Splitting  [37]\n",
            "Splitting  [46, 49, 52, 56, 71]\n",
            "Splitting  [46, 49]\n",
            "Splitting  [46]\n",
            "Splitting  [49]\n",
            "Splitting  [52, 56, 71]\n",
            "Splitting  [52]\n",
            "Splitting  [56, 71]\n",
            "Splitting  [56]\n",
            "Splitting  [71]\n",
            "[13, 22, 29, 37, 46, 49, 52, 56, 71]\n"
          ]
        }
      ]
    },
    {
      "cell_type": "code",
      "metadata": {
        "colab": {
          "base_uri": "https://localhost:8080/"
        },
        "id": "pcaTWjVkeBoj",
        "outputId": "e2637668-43b0-4924-c841-bcc52497b78c"
      },
      "source": [
        "#5\n",
        "def quickSort(data_list):\n",
        "   quickSortHlp(data_list,0,len(data_list)-1)\n",
        "def quickSortHlp(data_list,first,last):\n",
        "   if first < last:\n",
        "       splitpoint = partition(data_list,first,last)\n",
        "       quickSortHlp(data_list,first,splitpoint-1)\n",
        "       quickSortHlp(data_list,splitpoint+1,last)\n",
        "def partition(data_list,first,last):\n",
        "   pivotvalue = data_list[first]\n",
        "   leftmark = first+1\n",
        "   rightmark = last\n",
        "   done = False\n",
        "   while not done:\n",
        "       while leftmark <= rightmark and data_list[leftmark] <= pivotvalue:\n",
        "           leftmark = leftmark + 1\n",
        "       while data_list[rightmark] >= pivotvalue and rightmark >= leftmark:\n",
        "           rightmark = rightmark -1\n",
        "       if rightmark < leftmark:\n",
        "           done = True\n",
        "       else:\n",
        "           temp = data_list[leftmark]\n",
        "           data_list[leftmark] = data_list[rightmark]\n",
        "           data_list[rightmark] = temp\n",
        "   temp = data_list[first]\n",
        "   data_list[first] = data_list[rightmark]\n",
        "   data_list[rightmark] = temp\n",
        "   return rightmark\n",
        "  \n",
        "data_list = [29,13,22,37,52,49,46,71,56]\n",
        "quickSort(data_list)\n",
        "print(data_list)"
      ],
      "execution_count": 47,
      "outputs": [
        {
          "output_type": "stream",
          "name": "stdout",
          "text": [
            "[13, 22, 29, 37, 46, 49, 52, 56, 71]\n"
          ]
        }
      ]
    }
  ]
}