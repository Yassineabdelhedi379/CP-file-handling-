{
  "nbformat": 4,
  "nbformat_minor": 0,
  "metadata": {
    "colab": {
      "name": "files handling ",
      "provenance": [],
      "collapsed_sections": [],
      "authorship_tag": "ABX9TyPwAVG6fBrmd3UB/j0+D3Uz",
      "include_colab_link": true
    },
    "kernelspec": {
      "name": "python3",
      "display_name": "Python 3"
    },
    "language_info": {
      "name": "python"
    }
  },
  "cells": [
    {
      "cell_type": "markdown",
      "metadata": {
        "id": "view-in-github",
        "colab_type": "text"
      },
      "source": [
        "<a href=\"https://colab.research.google.com/github/Yassineabdelhedi379/CP-file-handling-/blob/main/files_handling.ipynb\" target=\"_parent\"><img src=\"https://colab.research.google.com/assets/colab-badge.svg\" alt=\"Open In Colab\"/></a>"
      ]
    },
    {
      "cell_type": "code",
      "metadata": {
        "colab": {
          "base_uri": "https://localhost:8080/"
        },
        "id": "a1l1Smm0aspw",
        "outputId": "7bc76373-0f3c-4eb0-87fe-c144ad37cdfc"
      },
      "source": [
        "my_file_handle=open(\"/content/python.html\")\n",
        "my_file_handle.read()\n",
        "with open('/content/python.html') as f: \n",
        "    first_line = f.readline() \n",
        "with open('/content/python.html') as f: \n",
        "    last_line = f.readline()    \n",
        "def count_words(filepath):\n",
        "    with open(\"/content/python.html\") as f:\n",
        "       data = f.read()\n",
        "       data.replace(\",\", \" \")\n",
        "       return len(data.split(\" \"))\n",
        "print(count_words(\"words.txt\"))"
      ],
      "execution_count": 25,
      "outputs": [
        {
          "output_type": "stream",
          "text": [
            "1805\n"
          ],
          "name": "stdout"
        }
      ]
    }
  ]
}